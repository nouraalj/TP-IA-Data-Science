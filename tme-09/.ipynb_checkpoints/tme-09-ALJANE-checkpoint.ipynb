{
 "cells": [
  {
   "cell_type": "markdown",
   "metadata": {},
   "source": [
    "IA & Data science (LU3IN0226) -- 2022-2023\n",
    "--------\n",
    "*&copy; Equipe pédagogique: Christophe Marsala, Olivier Schwander, Jean-Noël Vittaut.*"
   ]
  },
  {
   "cell_type": "markdown",
   "metadata": {},
   "source": [
    "# TD-TME09: algorithme des k-moyennes\n",
    "\n",
    "L'objectif de ce notebook est d'implémenter l'algorithme des K-moyennes."
   ]
  },
  {
   "cell_type": "markdown",
   "metadata": {},
   "source": [
    "<font size=\"+1\" color=\"RED\">**[Q]**</font> **Indiquer dans la boîte ci-dessous vos noms et prénoms :**"
   ]
  },
  {
   "cell_type": "markdown",
   "metadata": {},
   "source": [
    "ALJANE Noura"
   ]
  },
  {
   "cell_type": "markdown",
   "metadata": {},
   "source": [
    "<font color=\"RED\" size=\"+1\"><b>[Q]</b></font> **Renommer ce fichier ipython**\n",
    "\n",
    "**Nom à donner au fichier à poster** : *tme-10-Nom1_Nom2.ipynb* \n",
    "- *Nom1* et *Nom2* : noms des membres du binôme\n",
    "- ne pas compresser ou faire une archive: il faut rendre le fichier ipython tel quel, éventuellement, si vous avez d'autres fichiers vous les rendez séparément.\n",
    "\n",
    "**Echancier pour la soumission de votre compte-rendu:**\n",
    "- le compte-rendu d'une séance doit être remis obligatoirement <font color=\"RED\">avant la séance suivante</font>.\n",
    "\n",
    "**Le compte-rendu est soumis sur la page Moodle.**"
   ]
  },
  {
   "cell_type": "markdown",
   "metadata": {},
   "source": [
    "## Préparation \n",
    "\n",
    "Si vous ne l'avez pas fait lors de la séance précédente, commencer par créer un nouveau fichier de nom `Clustering.py` dans votre répertoire `iads`.\n",
    "Utilisez les premières lignes du fichier `Classifiers.py` pour débuter votre fichier `Clustering.py`, puis rajoutez dans ce fichier les fonctions écrites dans le TDTME 8:\n",
    "- normalisation\n",
    "- dist_euclidienne, dist_manhattan, dist_vect\n",
    "- centroide, dist_centroides\n",
    "- initialise, fusionne, clustering_hierarchique\n",
    "- toutes les autres fonctions écrites\n",
    "\n",
    "**Remarque**: il est nécessaire d'ajouter des imports utilisés dans le TDTME 8 dans le fichier `Clustering.py`."
   ]
  },
  {
   "cell_type": "code",
   "execution_count": 110,
   "metadata": {},
   "outputs": [
    {
     "name": "stdout",
     "output_type": "stream",
     "text": [
      "The autoreload extension is already loaded. To reload it, use:\n",
      "  %reload_ext autoreload\n"
     ]
    }
   ],
   "source": [
    "# Importation des librairies standards:\n",
    "import numpy as np\n",
    "import pandas as pd\n",
    "import matplotlib.pyplot as plt\n",
    "import random\n",
    "%matplotlib inline  \n",
    "\n",
    "# Importation de votre librairie iads:\n",
    "# La ligne suivante permet de préciser le chemin d'accès à la librairie iads\n",
    "import sys\n",
    "sys.path.append('../')   # iads doit être dans le répertoire frère du répertoire courant !\n",
    "\n",
    "# Importation de la librairie iads\n",
    "import iads as iads\n",
    "\n",
    "# importation de Classifiers\n",
    "from iads import Classifiers as cl\n",
    "\n",
    "# importation de utils\n",
    "from iads import utils as ut\n",
    "\n",
    "# importation de evaluation\n",
    "from iads import evaluation as ev\n",
    "\n",
    "# importation de Clustering\n",
    "from iads import Clustering as clust\n",
    "\n",
    "# commande TRES utile pour recharger automatiquement le code que vous modifiez dans les modules\n",
    "%load_ext autoreload\n",
    "%autoreload 2"
   ]
  },
  {
   "cell_type": "markdown",
   "metadata": {},
   "source": [
    "## Travail à réaliser\n",
    "Le travail à faire se décompose en 2 phases :\n",
    "- dans un premier temps, le travail porte sur la base d'apprentissage <code>base-2D.csv</code> qui contient des exemples décrits dans $R^2$. Ainsi, il est plus aisé de visualiser les résultats des fonctions à écrire ;\n",
    "- dans un second temps, les fonctions écrites dans la phase précédente sont à utiliser avec la base d'apprentissage `base-Paris.csv`.\n",
    "\n",
    "Les 2 bases citées ont été fournies dans le TDTME 8, afin de ne pas les recopier, vous pouvez créer un <a href=\"https://fr.wikipedia.org/wiki/Lien_symbolique\">lien symbolique</a> dans votre répertoire `tme-09` pour accéder au répertoire `data` du `tme-08`:\n",
    "\n",
    "Placez-vous dans votre répertoire `tme-09` dans le terminal puis tapez:\n",
    "\n",
    "    ln -s ../tme-08/data .\n",
    "    \n",
    "Une fois créé, si vous tapez `ls data` dans le répertoire `tme-09` vous aurez l'affichage du contenu du répertoire et les 2 bases seront accessibles directement par `data/base-2D.csv` et `data/base-Paris.csv`.\n",
    "\n"
   ]
  },
  {
   "cell_type": "markdown",
   "metadata": {},
   "source": [
    "\n",
    "**Attention**: dans ce notebook, vos fonctions doivent **dès leur création** pouvoir s'appliquer **quelle que soit la dimension** des exemples traités.\n"
   ]
  },
  {
   "cell_type": "markdown",
   "metadata": {},
   "source": [
    "### Données d'expérimentation\n",
    "\n",
    "Commencer par charger le fichier <code>base_2D.csv</code> qui permettra d'expérimenter vos fonctions. Dans ce qui suit, on note <code>data_2D</code> le dataframe qui contient les données de ce fichiers.\n"
   ]
  },
  {
   "cell_type": "code",
   "execution_count": 111,
   "metadata": {
    "scrolled": true
   },
   "outputs": [
    {
     "data": {
      "text/html": [
       "<div>\n",
       "<style scoped>\n",
       "    .dataframe tbody tr th:only-of-type {\n",
       "        vertical-align: middle;\n",
       "    }\n",
       "\n",
       "    .dataframe tbody tr th {\n",
       "        vertical-align: top;\n",
       "    }\n",
       "\n",
       "    .dataframe thead th {\n",
       "        text-align: right;\n",
       "    }\n",
       "</style>\n",
       "<table border=\"1\" class=\"dataframe\">\n",
       "  <thead>\n",
       "    <tr style=\"text-align: right;\">\n",
       "      <th></th>\n",
       "      <th>X1</th>\n",
       "      <th>X2</th>\n",
       "    </tr>\n",
       "  </thead>\n",
       "  <tbody>\n",
       "    <tr>\n",
       "      <th>0</th>\n",
       "      <td>0.0</td>\n",
       "      <td>4.0</td>\n",
       "    </tr>\n",
       "    <tr>\n",
       "      <th>1</th>\n",
       "      <td>1.0</td>\n",
       "      <td>3.5</td>\n",
       "    </tr>\n",
       "    <tr>\n",
       "      <th>2</th>\n",
       "      <td>1.0</td>\n",
       "      <td>1.0</td>\n",
       "    </tr>\n",
       "    <tr>\n",
       "      <th>3</th>\n",
       "      <td>2.0</td>\n",
       "      <td>1.0</td>\n",
       "    </tr>\n",
       "    <tr>\n",
       "      <th>4</th>\n",
       "      <td>2.0</td>\n",
       "      <td>2.0</td>\n",
       "    </tr>\n",
       "  </tbody>\n",
       "</table>\n",
       "</div>"
      ],
      "text/plain": [
       "    X1   X2\n",
       "0  0.0  4.0\n",
       "1  1.0  3.5\n",
       "2  1.0  1.0\n",
       "3  2.0  1.0\n",
       "4  2.0  2.0"
      ]
     },
     "execution_count": 111,
     "metadata": {},
     "output_type": "execute_result"
    }
   ],
   "source": [
    "data_2D = pd.read_csv(\"data/base-2D.csv\")\n",
    "data_2D[0:5] "
   ]
  },
  {
   "cell_type": "markdown",
   "metadata": {},
   "source": [
    "### Vérification\n",
    "\n",
    "On vérifie que tout est ok avec la librairie:"
   ]
  },
  {
   "cell_type": "code",
   "execution_count": 112,
   "metadata": {},
   "outputs": [
    {
     "data": {
      "text/html": [
       "<div>\n",
       "<style scoped>\n",
       "    .dataframe tbody tr th:only-of-type {\n",
       "        vertical-align: middle;\n",
       "    }\n",
       "\n",
       "    .dataframe tbody tr th {\n",
       "        vertical-align: top;\n",
       "    }\n",
       "\n",
       "    .dataframe thead th {\n",
       "        text-align: right;\n",
       "    }\n",
       "</style>\n",
       "<table border=\"1\" class=\"dataframe\">\n",
       "  <thead>\n",
       "    <tr style=\"text-align: right;\">\n",
       "      <th></th>\n",
       "      <th>X1</th>\n",
       "      <th>X2</th>\n",
       "    </tr>\n",
       "  </thead>\n",
       "  <tbody>\n",
       "    <tr>\n",
       "      <th>0</th>\n",
       "      <td>0.000000</td>\n",
       "      <td>0.6</td>\n",
       "    </tr>\n",
       "    <tr>\n",
       "      <th>1</th>\n",
       "      <td>0.142857</td>\n",
       "      <td>0.5</td>\n",
       "    </tr>\n",
       "    <tr>\n",
       "      <th>2</th>\n",
       "      <td>0.142857</td>\n",
       "      <td>0.0</td>\n",
       "    </tr>\n",
       "    <tr>\n",
       "      <th>3</th>\n",
       "      <td>0.285714</td>\n",
       "      <td>0.0</td>\n",
       "    </tr>\n",
       "    <tr>\n",
       "      <th>4</th>\n",
       "      <td>0.285714</td>\n",
       "      <td>0.2</td>\n",
       "    </tr>\n",
       "    <tr>\n",
       "      <th>5</th>\n",
       "      <td>0.571429</td>\n",
       "      <td>0.6</td>\n",
       "    </tr>\n",
       "    <tr>\n",
       "      <th>6</th>\n",
       "      <td>0.571429</td>\n",
       "      <td>0.8</td>\n",
       "    </tr>\n",
       "    <tr>\n",
       "      <th>7</th>\n",
       "      <td>0.571429</td>\n",
       "      <td>1.0</td>\n",
       "    </tr>\n",
       "    <tr>\n",
       "      <th>8</th>\n",
       "      <td>0.642857</td>\n",
       "      <td>0.0</td>\n",
       "    </tr>\n",
       "    <tr>\n",
       "      <th>9</th>\n",
       "      <td>0.642857</td>\n",
       "      <td>1.0</td>\n",
       "    </tr>\n",
       "    <tr>\n",
       "      <th>10</th>\n",
       "      <td>0.714286</td>\n",
       "      <td>0.0</td>\n",
       "    </tr>\n",
       "    <tr>\n",
       "      <th>11</th>\n",
       "      <td>0.714286</td>\n",
       "      <td>0.8</td>\n",
       "    </tr>\n",
       "    <tr>\n",
       "      <th>12</th>\n",
       "      <td>0.857143</td>\n",
       "      <td>0.2</td>\n",
       "    </tr>\n",
       "    <tr>\n",
       "      <th>13</th>\n",
       "      <td>1.000000</td>\n",
       "      <td>0.6</td>\n",
       "    </tr>\n",
       "  </tbody>\n",
       "</table>\n",
       "</div>"
      ],
      "text/plain": [
       "          X1   X2\n",
       "0   0.000000  0.6\n",
       "1   0.142857  0.5\n",
       "2   0.142857  0.0\n",
       "3   0.285714  0.0\n",
       "4   0.285714  0.2\n",
       "5   0.571429  0.6\n",
       "6   0.571429  0.8\n",
       "7   0.571429  1.0\n",
       "8   0.642857  0.0\n",
       "9   0.642857  1.0\n",
       "10  0.714286  0.0\n",
       "11  0.714286  0.8\n",
       "12  0.857143  0.2\n",
       "13  1.000000  0.6"
      ]
     },
     "execution_count": 112,
     "metadata": {},
     "output_type": "execute_result"
    }
   ],
   "source": [
    "data_2D_norm = clust.normalisation(data_2D)\n",
    "data_2D_norm\n",
    "#plt.scatter(data_2D_norm['X1'],data_2D_norm['X2'],)"
   ]
  },
  {
   "cell_type": "code",
   "execution_count": 113,
   "metadata": {},
   "outputs": [
    {
     "data": {
      "image/png": "[encoded data removed]",
      "text/plain": [
       "<Figure size 3000x1500 with 1 Axes>"
      ]
     },
     "metadata": {},
     "output_type": "display_data"
    },
    {
     "data": {
      "text/plain": [
       "[[8, 10, 0.0714285714285714, 2],\n",
       " [7, 9, 0.07142857142857151, 2],\n",
       " [2, 3, 0.14285714285714285, 2],\n",
       " [6, 11, 0.1428571428571429, 2],\n",
       " [0, 1, 0.17437936593905287, 2],\n",
       " [15, 17, 0.20316375219039837, 4],\n",
       " [4, 16, 0.21237241067597867, 3],\n",
       " [12, 14, 0.26811891970176366, 3],\n",
       " [5, 19, 0.3047456282855976, 5],\n",
       " [13, 22, 0.4542857142857144, 6],\n",
       " [20, 21, 0.5000000000000001, 6],\n",
       " [18, 24, 0.638139657302555, 8],\n",
       " [23, 25, 0.6796842379114776, 14]]"
      ]
     },
     "execution_count": 113,
     "metadata": {},
     "output_type": "execute_result"
    }
   ],
   "source": [
    "clust.CHA_centroid(data_2D_norm,verbose=False,dendrogramme=True)"
   ]
  },
  {
   "cell_type": "code",
   "execution_count": 114,
   "metadata": {},
   "outputs": [
    {
     "name": "stdout",
     "output_type": "stream",
     "text": [
      "Centroide de toutes les données de la base:\n",
      " X1    0.510204\n",
      "X2    0.450000\n",
      "dtype: float64\n"
     ]
    }
   ],
   "source": [
    "print(\"Centroide de toutes les données de la base:\\n\",clust.centroide(data_2D_norm))"
   ]
  },
  {
   "cell_type": "markdown",
   "metadata": {},
   "source": [
    "## Implémentation des k-moyennes"
   ]
  },
  {
   "cell_type": "markdown",
   "metadata": {},
   "source": [
    "### Inertie d'un cluster\n",
    "<font size=\"+1\" color=\"RED\"><b>[Q]</b></font> Ecrire la fonction <code>inertie_cluster</code> qui, étant donné un  ensemble d'exemples (sous la forme d'un dataframe ou d'un np.array) contenant au moins 2 exemples, rend la valeur de l'inertie de cet ensemble telle qu'elle a été définie dans le cours."
   ]
  },
  {
   "cell_type": "code",
   "execution_count": 115,
   "metadata": {},
   "outputs": [],
   "source": [
    "def inertie_cluster(Ens):\n",
    "    centre = Ens.mean()\n",
    "    inertie = np.sum(np.linalg.norm(Ens - centre, axis=1) ** 2)\n",
    "    return inertie"
   ]
  },
  {
   "cell_type": "code",
   "execution_count": 116,
   "metadata": {},
   "outputs": [
    {
     "name": "stdout",
     "output_type": "stream",
     "text": [
      "inertie de l'ensemble : 2.9760\n"
     ]
    }
   ],
   "source": [
    "print(f\"inertie de l'ensemble : {inertie_cluster(data_2D_norm):1.4f}\")\n"
   ]
  },
  {
   "cell_type": "markdown",
   "metadata": {},
   "source": [
    "<font size=\"+1\" color=\"RED\"><b>[Q]</b></font>  Ecrire la fonction <code>init_kmeans()</code> qui étant donné un entier $K>1$ et une base d'apprentissage de $n$ exemples rend un np.array composés de $K$ exemples tirés aléatoirement dans la base. On fait l'hypothèse que $K\\leq n$.\n",
    "\n",
    "**Remarque**: étudier les fonctions de la librairie random de Python...\n"
   ]
  },
  {
   "cell_type": "code",
   "execution_count": 175,
   "metadata": {},
   "outputs": [],
   "source": [
    "\n",
    "def init_kmeans(K,Ens):\n",
    "    return np.asarray(random.sample(list(np.array(Ens)), K))\n",
    "    "
   ]
  },
  {
   "cell_type": "code",
   "execution_count": 176,
   "metadata": {},
   "outputs": [
    {
     "data": {
      "text/plain": [
       "array([[0.        , 0.6       ],\n",
       "       [0.57142857, 0.6       ],\n",
       "       [0.85714286, 0.2       ]])"
      ]
     },
     "execution_count": 176,
     "metadata": {},
     "output_type": "execute_result"
    }
   ],
   "source": [
    "np.random.seed(42)\n",
    "# Par exemple (mais vous ne devriez pas pouvoir retrouver exactement les mêmes !)\n",
    "Centroides_test = init_kmeans(3,data_2D_norm)\n",
    "Centroides_test"
   ]
  },
  {
   "cell_type": "code",
   "execution_count": 177,
   "metadata": {},
   "outputs": [
    {
     "data": {
      "text/plain": [
       "<matplotlib.collections.PathCollection at 0x7f564e898040>"
      ]
     },
     "execution_count": 177,
     "metadata": {},
     "output_type": "execute_result"
    },
    {
     "data": {
      "image/png": "[encoded data removed]",
      "text/plain": [
       "<Figure size 640x480 with 1 Axes>"
      ]
     },
     "metadata": {},
     "output_type": "display_data"
    }
   ],
   "source": [
    "plt.scatter(data_2D_norm['X1'],data_2D_norm['X2'],color='blue')\n",
    "plt.scatter(Centroides_test[:,0],Centroides_test[:,1],color='red')"
   ]
  },
  {
   "cell_type": "code",
   "execution_count": 178,
   "metadata": {},
   "outputs": [],
   "source": [
    "from scipy.spatial.distance import cdist\n",
    "\n",
    "def plus_proche(Exe,Centres):\n",
    "    return np.argmin(cdist(np.array().reshape(1, -1), C), axis=1)[0]\n"
   ]
  },
  {
   "cell_type": "markdown",
   "metadata": {},
   "source": [
    "<font size=\"+1\" color=\"RED\"><b>[Q]</b></font>  Ecrire la fonction <code>plus_proche()</code> qui, étant donné un exemple et un array contenant un ensemble de centroides, rend l'indice du centroide dont l'exemple est le plus proche.\n",
    "En cas d'égalité de distance, le centroide de plus petit indice est choisi."
   ]
  },
  {
   "cell_type": "code",
   "execution_count": 179,
   "metadata": {},
   "outputs": [
    {
     "data": {
      "text/plain": [
       "array([0. , 0.6])"
      ]
     },
     "execution_count": 179,
     "metadata": {},
     "output_type": "execute_result"
    }
   ],
   "source": [
    "Centroides_test[0]"
   ]
  },
  {
   "cell_type": "code",
   "execution_count": 180,
   "metadata": {},
   "outputs": [],
   "source": [
    "def plus_proche(Exe,Centres):\n",
    "    distances = [clust.dist_euclidienne(Exe, clust.centroide(Centres[i])) for i in range(len(Centres))]\n",
    "    return np.argmin(distances)"
   ]
  },
  {
   "cell_type": "code",
   "execution_count": 181,
   "metadata": {},
   "outputs": [
    {
     "name": "stdout",
     "output_type": "stream",
     "text": [
      "L'exemple  0  est le plus proche du centroide  0\n",
      "L'exemple  1  est le plus proche du centroide  0\n",
      "L'exemple  2  est le plus proche du centroide  0\n",
      "L'exemple  3  est le plus proche du centroide  0\n",
      "L'exemple  4  est le plus proche du centroide  0\n",
      "L'exemple  5  est le plus proche du centroide  1\n",
      "L'exemple  6  est le plus proche du centroide  1\n",
      "L'exemple  7  est le plus proche du centroide  1\n",
      "L'exemple  8  est le plus proche du centroide  0\n",
      "L'exemple  9  est le plus proche du centroide  1\n",
      "L'exemple  10  est le plus proche du centroide  0\n",
      "L'exemple  11  est le plus proche du centroide  1\n",
      "L'exemple  12  est le plus proche du centroide  2\n",
      "L'exemple  13  est le plus proche du centroide  1\n"
     ]
    }
   ],
   "source": [
    "# Exemple (vérifier le résultat avec l'affichage graphique réalisé précédemment):\n",
    "for i in range(0,len(data_2D_norm)):\n",
    "    pproche = plus_proche(data_2D_norm.iloc[i],Centroides_test)\n",
    "    print(\"L'exemple \",i,\" est le plus proche du centroide \",pproche)"
   ]
  },
  {
   "cell_type": "markdown",
   "metadata": {},
   "source": [
    "### Matrice d'affectation\n",
    "\n",
    "Etant donné une base d'apprentissage, on représente une partition de cette base en K clusters à l'aide d'une matrice U contenant n lignes (une par exemple) et K colonnes (une par cluster) et telle que les contraintes suivantes sont vérifiées: \n",
    "- U[i,j] = 1 si l'exemple i appartient au cluster j\n",
    "- U[i,j] = 0 si l'exemple i n'appartient pas au cluster j\n",
    "- un exemple appartient à un et un seul cluster\n",
    "- un cluster contient au moins un exemple\n",
    "\n",
    "On appelle **matrice d'affectation** une telle matrice U.\n"
   ]
  },
  {
   "cell_type": "markdown",
   "metadata": {},
   "source": [
    "<font size=\"+1\" color=\"RED\"><b>[Q]</b></font>  Donner une expression mathématique (pas du Python) des 2 dernières contraintes que vérifie une matrice d'affectation."
   ]
  },
  {
   "cell_type": "markdown",
   "metadata": {},
   "source": []
  },
  {
   "cell_type": "markdown",
   "metadata": {},
   "source": [
    "### Implémentation en Python\n",
    "Nous utilisons un dictionnaire pour représenter d'une matrice d'affectation: \n",
    "- les clés de ce dictionnaire correspondent aux $K$ indices des clusters\n",
    "- les valeurs correspondent à des listes d'indices d'exemples (leur indice dans la base d'apprentissage)\n",
    "\n",
    "Dans tout ce qui suit, une \"matrice d'affectation\" sera un tel dictionnaire.\n"
   ]
  },
  {
   "cell_type": "markdown",
   "metadata": {},
   "source": [
    "<font size=\"+1\" color=\"RED\"><b>[Q]</b></font>  Ecrire la fonction <code>affecte_cluster()</code> qui, étant donné une base d'apprentissage et un ensemble de $K$ centroïdes, rend la matrice d'affectation des exemples de la base aux clusters représentés par chaque centroïde."
   ]
  },
  {
   "cell_type": "code",
   "execution_count": 182,
   "metadata": {},
   "outputs": [],
   "source": [
    "from scipy.spatial.distance import cdist\n",
    "\n",
    "def affecte_cluster(Base,Centres):\n",
    "    Y = np.argmin(cdist(Base, Centres), axis=1)\n",
    "    return {c:list(np.where(Y==c)[0]) for c in range(len(Centres))}"
   ]
  },
  {
   "cell_type": "code",
   "execution_count": 183,
   "metadata": {},
   "outputs": [
    {
     "data": {
      "text/plain": [
       "{0: [0, 1, 2, 4], 1: [5, 6, 7, 9, 11], 2: [3, 8, 10, 12, 13]}"
      ]
     },
     "execution_count": 183,
     "metadata": {},
     "output_type": "execute_result"
    }
   ],
   "source": [
    "DictAffect = affecte_cluster(data_2D_norm, Centroides_test)\n",
    "DictAffect"
   ]
  },
  {
   "cell_type": "markdown",
   "metadata": {},
   "source": [
    "### Ensemble des centroides\n",
    "Grâce à la matrice d'affectation, on peut maintenant trouver les nouveaux centroides. Ceux-ci sont déterminés en prenant les moyennes des ensembles des exemples qui sont affectés au même cluster.\n",
    "\n",
    "<font size=\"+1\" color=\"RED\"><b>[Q]</b></font>  Ecrire la fonction <code>nouveaux_centroides()</code> qui, étant donné une base d'apprentissage et une matrice d'affectation, rend l'ensemble des nouveaux centroides obtenus."
   ]
  },
  {
   "cell_type": "code",
   "execution_count": null,
   "metadata": {},
   "outputs": [],
   "source": [
    "def nouveaux_centroides(Base,U):\n",
    "\n",
    "############# A COMPLETER "
   ]
  },
  {
   "cell_type": "code",
   "execution_count": 16,
   "metadata": {},
   "outputs": [
    {
     "data": {
      "text/html": [
       "<div>\n",
       "<style scoped>\n",
       "    .dataframe tbody tr th:only-of-type {\n",
       "        vertical-align: middle;\n",
       "    }\n",
       "\n",
       "    .dataframe tbody tr th {\n",
       "        vertical-align: top;\n",
       "    }\n",
       "\n",
       "    .dataframe thead th {\n",
       "        text-align: right;\n",
       "    }\n",
       "</style>\n",
       "<table border=\"1\" class=\"dataframe\">\n",
       "  <thead>\n",
       "    <tr style=\"text-align: right;\">\n",
       "      <th></th>\n",
       "      <th>X1</th>\n",
       "      <th>X2</th>\n",
       "    </tr>\n",
       "  </thead>\n",
       "  <tbody>\n",
       "    <tr>\n",
       "      <th>7</th>\n",
       "      <td>0.571429</td>\n",
       "      <td>1.0</td>\n",
       "    </tr>\n",
       "    <tr>\n",
       "      <th>9</th>\n",
       "      <td>0.642857</td>\n",
       "      <td>1.0</td>\n",
       "    </tr>\n",
       "  </tbody>\n",
       "</table>\n",
       "</div>"
      ],
      "text/plain": [
       "         X1   X2\n",
       "7  0.571429  1.0\n",
       "9  0.642857  1.0"
      ]
     },
     "execution_count": 16,
     "metadata": {},
     "output_type": "execute_result"
    }
   ],
   "source": [
    "data_2D_norm.iloc[DictAffect[0]]"
   ]
  },
  {
   "cell_type": "code",
   "execution_count": 17,
   "metadata": {},
   "outputs": [
    {
     "data": {
      "text/plain": [
       "X1    0.607143\n",
       "X2    1.000000\n",
       "dtype: float64"
      ]
     },
     "execution_count": 17,
     "metadata": {},
     "output_type": "execute_result"
    }
   ],
   "source": [
    "clust.centroide(data_2D_norm.iloc[DictAffect[0]])"
   ]
  },
  {
   "cell_type": "code",
   "execution_count": 18,
   "metadata": {},
   "outputs": [
    {
     "data": {
      "text/plain": [
       "array([[0.60714286, 1.        ],\n",
       "       [0.7244898 , 0.42857143],\n",
       "       [0.17142857, 0.26      ]])"
      ]
     },
     "execution_count": 18,
     "metadata": {},
     "output_type": "execute_result"
    }
   ],
   "source": [
    "nouveaux_centroides(data_2D_norm, DictAffect)"
   ]
  },
  {
   "cell_type": "markdown",
   "metadata": {},
   "source": [
    "### Inertie globale d'une partition\n",
    "\n",
    "<font size=\"+1\" color=\"RED\"><b>[Q]</b></font>  En utilisant la fonction `inertie_cluster()`, écrire la fonction `inertie_globale()` qui, étant donné une base d'apprentissage et une matrice d'affectation, rend la valeur de l'inertie globale du partitionnement correspondant.\n"
   ]
  },
  {
   "cell_type": "code",
   "execution_count": null,
   "metadata": {},
   "outputs": [],
   "source": [
    "def inertie_globale(Base, U):\n",
    "    \n",
    "############# A COMPLETER "
   ]
  },
  {
   "cell_type": "code",
   "execution_count": 20,
   "metadata": {},
   "outputs": [
    {
     "name": "stdout",
     "output_type": "stream",
     "text": [
      "Inertie globale: 1.2732\n"
     ]
    }
   ],
   "source": [
    "print(f'Inertie globale: {inertie_globale(data_2D_norm,DictAffect):1.4f}')"
   ]
  },
  {
   "cell_type": "markdown",
   "metadata": {},
   "source": [
    "### Algorithme des K-moyennes\n",
    "\n",
    "<font size=\"+1\" color=\"RED\"><b>[Q]</b></font>  En utilisant les fonctions précédentes, implémenter l'algorithme des K-moyennes.\n",
    "Pour cela, écrire une fonction <code>kmoyennes()</code> qui prend en argument un entier $K>1$, une base d'apprentissage, ainsi que deux nombres: un réel *epsilon*$>0$ et un entier *iter_max*$>1$, et qui rend un ensemble de centroides et une matrice d'affectation.\n",
    "\n",
    "Le réel *epsilon* sert de critère de convergence, et l'entier *iter_max* est utilisé pour fixer un nombre d'itérations maximal servant à arrêter le calcul."
   ]
  },
  {
   "cell_type": "code",
   "execution_count": null,
   "metadata": {},
   "outputs": [],
   "source": [
    "def kmoyennes(K, Base, epsilon, iter_max):\n",
    "\n",
    "############# A COMPLETER "
   ]
  },
  {
   "cell_type": "code",
   "execution_count": 22,
   "metadata": {},
   "outputs": [
    {
     "name": "stdout",
     "output_type": "stream",
     "text": [
      "iteration 1 Inertie : 2.2482 Difference: 1.1982\n",
      "iteration 2 Inertie : 1.5128 Difference: 0.7354\n",
      "iteration 3 Inertie : 1.3921 Difference: 0.1207\n",
      "iteration 4 Inertie : 1.3921 Difference: 0.0000\n",
      "Affichage des centres:  [[0.67857143 0.8       ]\n",
      " [0.38392857 0.1875    ]]\n",
      "Affichage des affectations:  {0: [5, 6, 7, 9, 11, 13], 1: [0, 1, 2, 3, 4, 8, 10, 12]}\n"
     ]
    }
   ],
   "source": [
    "np.random.seed(42)   # supprimer cette ligne une fois la mise au point terminée\n",
    "\n",
    "les_centres, l_affectation = kmoyennes(2, data_2D_norm, 0.05, 100)\n",
    "\n",
    "print(\"Affichage des centres: \",les_centres)\n",
    "print(\"Affichage des affectations: \",l_affectation)"
   ]
  },
  {
   "cell_type": "code",
   "execution_count": 23,
   "metadata": {},
   "outputs": [
    {
     "name": "stdout",
     "output_type": "stream",
     "text": [
      "iteration 1 Inertie : 1.2732 Difference: 0.2232\n",
      "iteration 2 Inertie : 0.9095 Difference: 0.3637\n",
      "iteration 3 Inertie : 0.8127 Difference: 0.0968\n",
      "iteration 4 Inertie : 0.8127 Difference: 0.0000\n",
      "Affichage des centres:  [[0.61428571 0.84      ]\n",
      " [0.80357143 0.2       ]\n",
      " [0.17142857 0.26      ]]\n",
      "Affichage des affectations:  {0: [5, 6, 7, 9, 11], 1: [8, 10, 12, 13], 2: [0, 1, 2, 3, 4]}\n"
     ]
    }
   ],
   "source": [
    "np.random.seed(42)   # supprimer cette ligne une fois la mise au point terminée\n",
    "\n",
    "les_centres, l_affectation = kmoyennes(3, data_2D_norm, 0.05, 100)\n",
    "\n",
    "print(\"Affichage des centres: \",les_centres)\n",
    "print(\"Affichage des affectations: \",l_affectation)"
   ]
  },
  {
   "cell_type": "markdown",
   "metadata": {},
   "source": [
    "On peut réaliser un affichage couleur des centroïdes trouvés:"
   ]
  },
  {
   "cell_type": "code",
   "execution_count": 24,
   "metadata": {},
   "outputs": [
    {
     "data": {
      "text/plain": [
       "<matplotlib.collections.PathCollection at 0x7f1d46139bb0>"
      ]
     },
     "execution_count": 24,
     "metadata": {},
     "output_type": "execute_result"
    },
    {
     "data": {
      "image/png": "[encoded data removed]",
      "text/plain": [
       "<Figure size 432x288 with 1 Axes>"
      ]
     },
     "metadata": {
      "needs_background": "light"
     },
     "output_type": "display_data"
    }
   ],
   "source": [
    "plt.scatter(data_2D_norm['X1'],data_2D_norm['X2'],color='b')\n",
    "plt.scatter(les_centres[:,0],les_centres[:,1],color='r',marker='x')"
   ]
  },
  {
   "cell_type": "markdown",
   "metadata": {},
   "source": [
    "<font size=\"+1\" color=\"RED\"><b>[Q]</b></font>  Ecrire la fonction <code>affiche_resultat()</code> qui permet d'afficher le résultat de l'algorithme en utilisant des couleurs différentes pour les clusters trouvés (pour faire simple, on peut ne considèrer que le cas où K est inférieur à 20).\n",
    "\n",
    "*Remarque*: La librairie matplotlib permet de manipuler aisément des couleurs:\n",
    "http://matplotlib.org/api/cm_api.html\n",
    "\n",
    "Par exemple, on peut utiliser la table des couleurs (colormap) de nom `tab20` qui contient 20 couleurs différentes."
   ]
  },
  {
   "cell_type": "code",
   "execution_count": 29,
   "metadata": {},
   "outputs": [
    {
     "name": "stdout",
     "output_type": "stream",
     "text": [
      "nombre de couleurs différentes 20\n"
     ]
    },
    {
     "data": {
      "image/png": "[encoded data removed]",
      "text/plain": [
       "<Figure size 432x288 with 1 Axes>"
      ]
     },
     "metadata": {
      "needs_background": "light"
     },
     "output_type": "display_data"
    }
   ],
   "source": [
    "# Librairie pour manipuler les colormaps:\n",
    "import matplotlib.cm as cm\n",
    "\n",
    "# on transforme le colormap en couleurs utilisable par plt.scatter:\n",
    "couleurs = cm.tab20(np.linspace(0, 1, 20))\n",
    "\n",
    "print(\"nombre de couleurs différentes\",len(couleurs))\n",
    "\n",
    "# Pour voir ces couleurs, on va afficher 20 points aléatoirement définis:\n",
    "x = np.random.randn(len(couleurs))\n",
    "y = np.random.randn(len(couleurs))       \n",
    "\n",
    "for (x,y,c) in zip(x,y,couleurs):\n",
    "    plt.scatter(x, y, color=c)\n",
    "    "
   ]
  },
  {
   "cell_type": "code",
   "execution_count": null,
   "metadata": {},
   "outputs": [],
   "source": [
    "def affiche_resultat(Base,Centres,Affect):\n",
    "\n",
    "############# A COMPLETER "
   ]
  },
  {
   "cell_type": "code",
   "execution_count": 28,
   "metadata": {},
   "outputs": [
    {
     "data": {
      "image/png": "[encoded data removed]",
      "text/plain": [
       "<Figure size 432x288 with 1 Axes>"
      ]
     },
     "metadata": {
      "needs_background": "light"
     },
     "output_type": "display_data"
    }
   ],
   "source": [
    "affiche_resultat(data_2D_norm,les_centres,l_affectation)\n",
    "\n",
    "# Remarque:\n",
    "#  - les centres sont représentés par des croix rouges\n"
   ]
  },
  {
   "cell_type": "markdown",
   "metadata": {},
   "source": [
    "## Evaluation du résultat d'un clustering\n",
    "\n",
    "Cette partie est à faire après le cours 9 où l'évaluation de clustering sera vue.\n",
    "\n",
    "<font size=\"+1\" color=\"RED\"><b>[Q]</b></font> Implémenter les indices vus en cours: \n",
    "- index de Dunn\n",
    "- index de Xie-Beni\n"
   ]
  },
  {
   "cell_type": "markdown",
   "metadata": {},
   "source": [
    "## Expérimentations\n",
    "\n",
    "<font size=\"+1\" color=\"RED\"><b>[Q]</b></font>  Expérimenter l'algorithme des k-moyennes sur les données. Etudier l'impact du choix de $K$ sur l'inertie globale finale. Faire de même en relançant plusieurs fois l'algorithme avec la même valeur de $K$, en modifiant la valeur de epsilon ou de max_iter, etc.\n",
    "\n",
    "Vous utiliserez les indices d'évaluation pour comparer les partitions. Par exemple, il sera intéressant d'afficher la courbe de variation de ces indices en fonctions de $K$."
   ]
  },
  {
   "cell_type": "markdown",
   "metadata": {},
   "source": [
    "<font size=\"+1\" color=\"RED\"><b>[Q]</b></font>  Expérimenter l'algorithme des k-moyennes sur les données de la base `base_Paris` vue dans le TDTME précédent.\n",
    "\n",
    "Vous pouvez afficher les résultats obtenus avec le clustering hiérarchique afin de trouver une bonne valeur pour $K$.\n"
   ]
  },
  {
   "cell_type": "markdown",
   "metadata": {},
   "source": [
    "## Questions de cours (à faire sur feuille)\n",
    "\n",
    "Pour vous entraîner sans machine...\n",
    "\n",
    "<font size=\"+1\" color=\"RED\"><b>[Q]</b></font>  On considère un ensemble fini $U$ d'éléments. \n",
    "- donner la fonction caractéristique de $U$\n",
    "- donner la fonction caractéristique de l'ensemble vide\n",
    "- soit $E$ et $F$ deux sous-ensembles de $U$ définis par leurs fonctions caractéristiques $\\chi_E$ et $\\chi_F$. En déduire les fonctions caractéristiques de $E\\cup F$, de $E\\cap F$ et de $E^{c}$. *(indice: penser au min et au max)*\n",
    "\n",
    "<font size=\"+1\" color=\"RED\"><b>[Q]</b></font> Rappeler la définition d'une partition $P$ d'un ensemble $X$ en $K$ sous-ensembles. \n",
    "\n",
    "<font size=\"+1\" color=\"RED\"><b>[Q]</b></font>  Appliquer, à la main, l'algorithme des K-moyennes sur les données des questions 2 et 3 de l'exercice 2 du sujet de TD 8, en utilisant d'abord $K=2$, puis $K=3$. Dans chacun des cas, réaliser au maximum 10 itérations de l'algorithme ($t_{max}=10$).\n",
    "Comparer les résultats obtenus.\n",
    "\n",
    "\n",
    "---"
   ]
  },
  {
   "cell_type": "code",
   "execution_count": null,
   "metadata": {},
   "outputs": [],
   "source": []
  }
 ],
 "metadata": {
  "kernelspec": {
   "display_name": "Python 3 (ipykernel)",
   "language": "python",
   "name": "python3"
  },
  "language_info": {
   "codemirror_mode": {
    "name": "ipython",
    "version": 3
   },
   "file_extension": ".py",
   "mimetype": "text/x-python",
   "name": "python",
   "nbconvert_exporter": "python",
   "pygments_lexer": "ipython3",
   "version": "3.10.6"
  }
 },
 "nbformat": 4,
 "nbformat_minor": 1
}
